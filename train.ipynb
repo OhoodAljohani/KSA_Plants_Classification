{
 "cells": [
  {
   "cell_type": "markdown",
   "metadata": {},
   "source": [
    "### In this file, I'll train a deep model to classify two plant families in Saudi Arabia using binary classification."
   ]
  },
  {
   "cell_type": "markdown",
   "metadata": {},
   "source": [
    "#### This file covers the following :\n",
    "- Splitting the data to training/validation sets.\n",
    "- Reading the files using keras.\n",
    "- For imbalanced datasets, calculate class weights using *sklearn.utils.class_weight.compute_class_weight*. Please note that the data is not imbalanced but adding this step helped in improving the model accuracy. \n",
    "- Building CNN model.\n",
    "- Predicting."
   ]
  },
  {
   "cell_type": "markdown",
   "metadata": {},
   "source": [
    "#### Importing :"
   ]
  },
  {
   "cell_type": "code",
   "execution_count": 48,
   "metadata": {},
   "outputs": [],
   "source": [
    "# To read the data :\n",
    "import pandas as pd\n",
    "# To split the data :\n",
    "from sklearn.model_selection import train_test_split\n",
    "# Reading :\n",
    "from keras_preprocessing.image import ImageDataGenerator\n",
    "# To calculate class weights :\n",
    "from sklearn.utils import class_weight \n",
    "import numpy as np\n",
    "# Building the model :\n",
    "from keras.layers import Activation, Dense\n",
    "from keras.models import Sequential\n",
    "from keras.layers import Dense\n",
    "from keras.layers import Flatten\n",
    "from keras.layers.convolutional import Conv2D\n",
    "from keras.layers.convolutional import MaxPooling2D\n",
    "from tensorflow.keras.optimizers import RMSprop\n",
    "from keras.layers import Dropout\n",
    "from tensorflow.keras.callbacks import EarlyStopping\n",
    "# plot :\n",
    "import matplotlib.pyplot as plt\n",
    "# Predicting :\n",
    "import tensorflow as tf\n",
    "from tensorflow.keras.applications.resnet50 import preprocess_input\n",
    "from tensorflow.keras.preprocessing import image\n"
   ]
  },
  {
   "cell_type": "markdown",
   "metadata": {},
   "source": [
    "### Reading data :"
   ]
  },
  {
   "cell_type": "code",
   "execution_count": 2,
   "metadata": {},
   "outputs": [],
   "source": [
    "data = pd.read_csv('data/data.csv')"
   ]
  },
  {
   "cell_type": "markdown",
   "metadata": {},
   "source": [
    "Binary Classfication data : "
   ]
  },
  {
   "cell_type": "code",
   "execution_count": 3,
   "metadata": {},
   "outputs": [
    {
     "data": {
      "text/plain": [
       "(3839, 2)"
      ]
     },
     "execution_count": 3,
     "metadata": {},
     "output_type": "execute_result"
    }
   ],
   "source": [
    "names = ['CARYOPHYLLACEAE','BORAGINACEAE']\n",
    "BC_data = data.loc[data['label'].isin(names)]\n",
    "BC_data.shape"
   ]
  },
  {
   "cell_type": "markdown",
   "metadata": {},
   "source": [
    "### Splitting :"
   ]
  },
  {
   "cell_type": "code",
   "execution_count": 8,
   "metadata": {},
   "outputs": [],
   "source": [
    "train_split=.70  \n",
    "\n",
    "train_df, valid_df= train_test_split(BC_data, train_size=train_split, shuffle=True, random_state=123)\n",
    "\n",
    "train_df.to_csv(r\".\\data\\train.csv\", index =None)\n",
    "valid_df.to_csv(r\".\\data\\valid.csv\", index =None)\n"
   ]
  },
  {
   "cell_type": "code",
   "execution_count": 9,
   "metadata": {},
   "outputs": [
    {
     "data": {
      "text/plain": [
       "(1152, 2)"
      ]
     },
     "execution_count": 9,
     "metadata": {},
     "output_type": "execute_result"
    }
   ],
   "source": [
    "train=pd.read_csv(r\".\\data\\train.csv\")\n",
    "validate=pd.read_csv(r\".\\data\\valid.csv\")\n",
    "\n",
    "validate.shape"
   ]
  },
  {
   "cell_type": "markdown",
   "metadata": {},
   "source": [
    "### Reading the files using keras :"
   ]
  },
  {
   "cell_type": "code",
   "execution_count": 10,
   "metadata": {},
   "outputs": [],
   "source": [
    "train_datagen = ImageDataGenerator(\n",
    "    rotation_range=40,\n",
    "    width_shift_range=0.2,\n",
    "    height_shift_range=0.2,\n",
    "    shear_range=0.2,\n",
    "    zoom_range=0.2,\n",
    "    horizontal_flip=True,\n",
    "    fill_mode='nearest',\n",
    "    brightness_range = (0.5, 1.5),\n",
    "    rescale=1./255\n",
    "    )\n",
    "valid_datagen = ImageDataGenerator(rescale=1./255)"
   ]
  },
  {
   "cell_type": "code",
   "execution_count": 11,
   "metadata": {},
   "outputs": [
    {
     "name": "stdout",
     "output_type": "stream",
     "text": [
      "Found 2687 validated image filenames belonging to 2 classes.\n",
      "Found 1152 validated image filenames belonging to 2 classes.\n"
     ]
    }
   ],
   "source": [
    "# categorical\n",
    "train_generator=train_datagen.flow_from_dataframe(dataframe=train, directory=\".\\train_imgs\", x_col=\"img\", y_col=\"label\", class_mode='binary', target_size=(32,32), batch_size=32)\n",
    "valid_generator=valid_datagen.flow_from_dataframe(dataframe=validate, directory=\".\\valid_imgs\", x_col=\"img\", y_col=\"label\", class_mode='binary', target_size=(32,32), batch_size=32)"
   ]
  },
  {
   "cell_type": "markdown",
   "metadata": {},
   "source": [
    "### calculate class weights:"
   ]
  },
  {
   "cell_type": "code",
   "execution_count": 40,
   "metadata": {},
   "outputs": [],
   "source": [
    "class_weights = class_weight.compute_class_weight(\n",
    "    class_weight= \"balanced\",\n",
    "            classes = np.unique(train_generator.classes), \n",
    "            y=train_generator.classes)\n",
    "\n",
    "train_class_weights = dict(enumerate(class_weights))"
   ]
  },
  {
   "cell_type": "markdown",
   "metadata": {},
   "source": [
    "Steps computing :"
   ]
  },
  {
   "cell_type": "code",
   "execution_count": 12,
   "metadata": {},
   "outputs": [
    {
     "name": "stdout",
     "output_type": "stream",
     "text": [
      "steps per epoch:83\n",
      "steps per epoch:36\n"
     ]
    }
   ],
   "source": [
    "steps_per_epoch  = len(train) // 32\n",
    "print(\"steps per epoch:{}\".format(steps_per_epoch))\n",
    "validation_steps = len(validate)//32\n",
    "print(\"steps per epoch:{}\".format(validation_steps))"
   ]
  },
  {
   "cell_type": "markdown",
   "metadata": {},
   "source": [
    "### CNN Model :"
   ]
  },
  {
   "cell_type": "code",
   "execution_count": 57,
   "metadata": {},
   "outputs": [],
   "source": [
    "\n",
    "model = Sequential()\n",
    "model.add(Conv2D(32, (3, 3), padding='same',\n",
    "                 input_shape=(32,32,3)))\n",
    "model.add(Activation('relu'))\n",
    "model.add(Conv2D(32, (3, 3)))\n",
    "model.add(Conv2D(64, (3, 3)))\n",
    "model.add(Activation('relu'))\n",
    "model.add(MaxPooling2D(pool_size=(2, 2)))\n",
    "model.add(Dropout(0.25))\n",
    "model.add(Conv2D(64, (3, 3), padding='same'))\n",
    "model.add(Activation('relu'))\n",
    "model.add(Conv2D(64, (3, 3)))\n",
    "model.add(Conv2D(64, (3, 3)))\n",
    "model.add(Conv2D(64, (3, 3)))\n",
    "model.add(Activation('relu'))\n",
    "model.add(MaxPooling2D(pool_size=(2, 2)))\n",
    "model.add(Dropout(0.25))\n",
    "model.add(Flatten())\n",
    "model.add(Dense(32))\n",
    "model.add(Activation('relu'))\n",
    "model.add(Dropout(0.50))\n",
    "model.add(Dense(1, activation='sigmoid'))"
   ]
  },
  {
   "cell_type": "code",
   "execution_count": 58,
   "metadata": {},
   "outputs": [],
   "source": [
    "model.compile(optimizer=RMSprop(learning_rate=0.0001), loss='binary_crossentropy', metrics=['accuracy'])"
   ]
  },
  {
   "cell_type": "code",
   "execution_count": 19,
   "metadata": {},
   "outputs": [
    {
     "name": "stdout",
     "output_type": "stream",
     "text": [
      "Model: \"sequential\"\n",
      "_________________________________________________________________\n",
      " Layer (type)                Output Shape              Param #   \n",
      "=================================================================\n",
      " conv2d (Conv2D)             (None, 32, 32, 32)        896       \n",
      "                                                                 \n",
      " activation (Activation)     (None, 32, 32, 32)        0         \n",
      "                                                                 \n",
      " conv2d_1 (Conv2D)           (None, 30, 30, 32)        9248      \n",
      "                                                                 \n",
      " conv2d_2 (Conv2D)           (None, 28, 28, 64)        18496     \n",
      "                                                                 \n",
      " activation_1 (Activation)   (None, 28, 28, 64)        0         \n",
      "                                                                 \n",
      " max_pooling2d (MaxPooling2D  (None, 14, 14, 64)       0         \n",
      " )                                                               \n",
      "                                                                 \n",
      " conv2d_3 (Conv2D)           (None, 14, 14, 64)        36928     \n",
      "                                                                 \n",
      " activation_2 (Activation)   (None, 14, 14, 64)        0         \n",
      "                                                                 \n",
      " conv2d_4 (Conv2D)           (None, 12, 12, 64)        36928     \n",
      "                                                                 \n",
      " conv2d_5 (Conv2D)           (None, 10, 10, 64)        36928     \n",
      "                                                                 \n",
      " conv2d_6 (Conv2D)           (None, 8, 8, 64)          36928     \n",
      "                                                                 \n",
      " activation_3 (Activation)   (None, 8, 8, 64)          0         \n",
      "                                                                 \n",
      " max_pooling2d_1 (MaxPooling  (None, 4, 4, 64)         0         \n",
      " 2D)                                                             \n",
      "                                                                 \n",
      " flatten (Flatten)           (None, 1024)              0         \n",
      "                                                                 \n",
      " dense (Dense)               (None, 32)                32800     \n",
      "                                                                 \n",
      " activation_4 (Activation)   (None, 32)                0         \n",
      "                                                                 \n",
      " dense_1 (Dense)             (None, 1)                 33        \n",
      "                                                                 \n",
      "=================================================================\n",
      "Total params: 209,185\n",
      "Trainable params: 209,185\n",
      "Non-trainable params: 0\n",
      "_________________________________________________________________\n"
     ]
    }
   ],
   "source": [
    "model.summary()"
   ]
  },
  {
   "cell_type": "code",
   "execution_count": 59,
   "metadata": {},
   "outputs": [
    {
     "name": "stdout",
     "output_type": "stream",
     "text": [
      "Epoch 1/50\n",
      "83/83 - 12s - loss: 0.6954 - accuracy: 0.5060 - val_loss: 0.6930 - val_accuracy: 0.5078 - 12s/epoch - 149ms/step\n",
      "Epoch 2/50\n",
      "83/83 - 15s - loss: 0.6936 - accuracy: 0.5089 - val_loss: 0.6930 - val_accuracy: 0.5148 - 15s/epoch - 186ms/step\n",
      "Epoch 3/50\n",
      "83/83 - 17s - loss: 0.6936 - accuracy: 0.5111 - val_loss: 0.6911 - val_accuracy: 0.5182 - 17s/epoch - 202ms/step\n",
      "Epoch 4/50\n",
      "83/83 - 17s - loss: 0.6931 - accuracy: 0.5130 - val_loss: 0.6908 - val_accuracy: 0.5425 - 17s/epoch - 201ms/step\n",
      "Epoch 5/50\n",
      "83/83 - 15s - loss: 0.6868 - accuracy: 0.5605 - val_loss: 0.6687 - val_accuracy: 0.6345 - 15s/epoch - 181ms/step\n",
      "Epoch 6/50\n",
      "83/83 - 14s - loss: 0.6744 - accuracy: 0.5879 - val_loss: 0.6815 - val_accuracy: 0.5599 - 14s/epoch - 164ms/step\n",
      "Epoch 7/50\n",
      "83/83 - 14s - loss: 0.6707 - accuracy: 0.5902 - val_loss: 0.6535 - val_accuracy: 0.6137 - 14s/epoch - 172ms/step\n",
      "Epoch 8/50\n",
      "83/83 - 13s - loss: 0.6603 - accuracy: 0.6139 - val_loss: 0.6417 - val_accuracy: 0.6207 - 13s/epoch - 162ms/step\n",
      "Epoch 9/50\n",
      "83/83 - 13s - loss: 0.6581 - accuracy: 0.6117 - val_loss: 0.6330 - val_accuracy: 0.6467 - 13s/epoch - 161ms/step\n",
      "Epoch 10/50\n",
      "83/83 - 15s - loss: 0.6532 - accuracy: 0.6203 - val_loss: 0.6712 - val_accuracy: 0.5790 - 15s/epoch - 176ms/step\n",
      "Epoch 11/50\n",
      "83/83 - 14s - loss: 0.6484 - accuracy: 0.6207 - val_loss: 0.6722 - val_accuracy: 0.6068 - 14s/epoch - 165ms/step\n",
      "Epoch 12/50\n",
      "83/83 - 15s - loss: 0.6436 - accuracy: 0.6441 - val_loss: 0.6347 - val_accuracy: 0.6389 - 15s/epoch - 179ms/step\n",
      "Epoch 13/50\n",
      "83/83 - 15s - loss: 0.6393 - accuracy: 0.6426 - val_loss: 0.6120 - val_accuracy: 0.6727 - 15s/epoch - 183ms/step\n",
      "Epoch 14/50\n",
      "83/83 - 16s - loss: 0.6402 - accuracy: 0.6482 - val_loss: 0.6589 - val_accuracy: 0.6285 - 16s/epoch - 196ms/step\n",
      "Epoch 15/50\n",
      "83/83 - 15s - loss: 0.6305 - accuracy: 0.6516 - val_loss: 0.6122 - val_accuracy: 0.6476 - 15s/epoch - 179ms/step\n",
      "Epoch 16/50\n",
      "83/83 - 15s - loss: 0.6232 - accuracy: 0.6569 - val_loss: 0.6482 - val_accuracy: 0.6076 - 15s/epoch - 184ms/step\n",
      "Epoch 17/50\n",
      "83/83 - 15s - loss: 0.6248 - accuracy: 0.6637 - val_loss: 0.7940 - val_accuracy: 0.5938 - 15s/epoch - 185ms/step\n",
      "Epoch 18/50\n",
      "83/83 - 17s - loss: 0.6126 - accuracy: 0.6723 - val_loss: 0.6016 - val_accuracy: 0.6875 - 17s/epoch - 204ms/step\n",
      "Epoch 19/50\n",
      "83/83 - 17s - loss: 0.6173 - accuracy: 0.6621 - val_loss: 0.6812 - val_accuracy: 0.6224 - 17s/epoch - 200ms/step\n",
      "Epoch 20/50\n",
      "83/83 - 14s - loss: 0.6043 - accuracy: 0.6719 - val_loss: 0.6394 - val_accuracy: 0.6701 - 14s/epoch - 174ms/step\n",
      "Epoch 21/50\n",
      "83/83 - 14s - loss: 0.6000 - accuracy: 0.6798 - val_loss: 0.6046 - val_accuracy: 0.6849 - 14s/epoch - 169ms/step\n",
      "Epoch 22/50\n",
      "83/83 - 15s - loss: 0.5981 - accuracy: 0.6870 - val_loss: 0.7192 - val_accuracy: 0.6363 - 15s/epoch - 178ms/step\n",
      "Epoch 23/50\n",
      "83/83 - 15s - loss: 0.6062 - accuracy: 0.6723 - val_loss: 0.7485 - val_accuracy: 0.6068 - 15s/epoch - 179ms/step\n"
     ]
    }
   ],
   "source": [
    "history = model.fit(\n",
    "    train_generator, \n",
    "    steps_per_epoch=steps_per_epoch,\n",
    "    validation_data=valid_generator,\n",
    "    epochs=50,\n",
    "    validation_steps=validation_steps,\n",
    "    batch_size=132,\n",
    "    callbacks=EarlyStopping(patience=5),\n",
    "    class_weight= train_class_weights,\n",
    "    verbose=2)"
   ]
  },
  {
   "cell_type": "code",
   "execution_count": 60,
   "metadata": {},
   "outputs": [],
   "source": [
    "results = pd.DataFrame(history.history)\n"
   ]
  },
  {
   "cell_type": "code",
   "execution_count": 61,
   "metadata": {},
   "outputs": [
    {
     "data": {
      "text/plain": [
       "<AxesSubplot:>"
      ]
     },
     "execution_count": 61,
     "metadata": {},
     "output_type": "execute_result"
    },
    {
     "data": {
      "image/png": "[encoded data removed]",
      "text/plain": [
       "<Figure size 720x360 with 1 Axes>"
      ]
     },
     "metadata": {
      "needs_background": "light"
     },
     "output_type": "display_data"
    }
   ],
   "source": [
    "results[['val_loss', 'loss']].plot(figsize=(10, 5))"
   ]
  },
  {
   "cell_type": "code",
   "execution_count": 62,
   "metadata": {},
   "outputs": [
    {
     "data": {
      "text/plain": [
       "<AxesSubplot:>"
      ]
     },
     "execution_count": 62,
     "metadata": {},
     "output_type": "execute_result"
    },
    {
     "data": {
      "image/png": "[encoded data removed]",
      "text/plain": [
       "<Figure size 720x720 with 1 Axes>"
      ]
     },
     "metadata": {
      "needs_background": "light"
     },
     "output_type": "display_data"
    }
   ],
   "source": [
    "results[['val_accuracy', 'accuracy']].plot(figsize=(10, 10))"
   ]
  },
  {
   "cell_type": "code",
   "execution_count": null,
   "metadata": {},
   "outputs": [],
   "source": [
    "# saving the model : \n",
    "#model.save(\"./model/flora.h5\")"
   ]
  },
  {
   "cell_type": "markdown",
   "metadata": {},
   "source": [
    "#### Predicting using the model :"
   ]
  },
  {
   "cell_type": "code",
   "execution_count": 27,
   "metadata": {},
   "outputs": [],
   "source": [
    "def pred(img_path):\n",
    "    img = image.load_img(img_path, target_size=(32, 32))\n",
    "    img_array = image.img_to_array(img)\n",
    "\n",
    "    img_batch = np.expand_dims(img_array, axis=0)\n",
    "\n",
    "    preprocessed_img = preprocess_input(img_batch)\n",
    "\n",
    "    \n",
    "    prediction = model.predict(preprocessed_img)\n",
    "\n",
    "    print(prediction[0])\n",
    "    #print(type(prediction))\n"
   ]
  },
  {
   "cell_type": "code",
   "execution_count": 38,
   "metadata": {},
   "outputs": [],
   "source": [
    "# class = CARYOPHYLLACEAE = 0 \n",
    "pred0 = r\".\\data\\images\\CARYOPHYLLACEAE\\dr_3_5661.jpg\"\n",
    "# class = CARYOPHYLLACEAE = 1\n",
    "pred1 = r\".\\data\\images\\BORAGINACEAE\\dr_10_7234.jpg\" "
   ]
  },
  {
   "cell_type": "code",
   "execution_count": 39,
   "metadata": {},
   "outputs": [
    {
     "name": "stdout",
     "output_type": "stream",
     "text": [
      "[0.]\n"
     ]
    }
   ],
   "source": [
    "pred(pred0)"
   ]
  },
  {
   "cell_type": "code",
   "execution_count": 31,
   "metadata": {},
   "outputs": [
    {
     "name": "stdout",
     "output_type": "stream",
     "text": [
      "[1.]\n"
     ]
    }
   ],
   "source": [
    "pred(pred1)"
   ]
  }
 ],
 "metadata": {
  "interpreter": {
   "hash": "6205cd1a6490c241dae4b358caa62b3d3751c828d9f336d231782d609865e174"
  },
  "kernelspec": {
   "display_name": "Python 3.7.8 64-bit ('.cp': venv)",
   "language": "python",
   "name": "python3"
  },
  "language_info": {
   "codemirror_mode": {
    "name": "ipython",
    "version": 3
   },
   "file_extension": ".py",
   "mimetype": "text/x-python",
   "name": "python",
   "nbconvert_exporter": "python",
   "pygments_lexer": "ipython3",
   "version": "3.7.8"
  },
  "orig_nbformat": 4
 },
 "nbformat": 4,
 "nbformat_minor": 2
}
