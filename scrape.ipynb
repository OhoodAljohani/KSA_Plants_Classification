{
 "cells": [
  {
   "cell_type": "markdown",
   "metadata": {},
   "source": [
    "##  Introduction \n",
    "\n",
    "\n",
    "- The flora consists of about 2285 species.\n",
    "- These species belong to 855 genera in 131 families.\n",
    "- According to the present estimates, Saudi Arabia contains 97 trees (4.25%), 565 shrubs (24.73%) and about 1620 herbs (71.02%).\n",
    "- Majority of species are seen in meadows, mountains and wadis (valleys) ( 70% flora).\n",
    "- There are 110 families in the widely distributed plants.\n",
    "- For this project I only collocted the data for the first 21 family .\n"
   ]
  },
  {
   "cell_type": "markdown",
   "metadata": {},
   "source": [
    "Importing : "
   ]
  },
  {
   "cell_type": "code",
   "execution_count": null,
   "metadata": {},
   "outputs": [],
   "source": [
    "# Scraping imports :\n",
    "from bs4 import BeautifulSoup\n",
    "from urllib.request import urlopen, urlretrieve\n",
    "from selenium import webdriver\n",
    "import re\n",
    "# Scraping Images :\n",
    "import hashlib\n",
    "from PIL import Image\n",
    "import io, os\n",
    "import requests\n",
    "import time\n",
    "from selenium import webdriver\n",
    "# Saving csv files :\n",
    "import glob\n",
    "import os\n",
    "import pandas as pd \n",
    "# Visualizing Data :\n",
    "from PIL import Image\n",
    "import matplotlib.pyplot as plt"
   ]
  },
  {
   "cell_type": "markdown",
   "metadata": {},
   "source": [
    "### 1. Scraping the Names :\n",
    "-  get the page data.\n",
    "-  Store the data.\n",
    "-  Fix the data.\n"
   ]
  },
  {
   "cell_type": "markdown",
   "metadata": {},
   "source": [
    "This cell resulted in 1457 names. "
   ]
  },
  {
   "cell_type": "code",
   "execution_count": null,
   "metadata": {},
   "outputs": [],
   "source": [
    "# 1 : get the page data : \n",
    "from bs4 import BeautifulSoup\n",
    "from urllib.request import urlopen, urlretrieve\n",
    "from selenium import webdriver\n",
    "import re\n",
    "html_page = urlopen(\n",
    "    r'http://plantdiversityofsaudiarabia.info/Biodiversity-Saudi-Arabia/Flora/Widely%20distributed/Widely%20Distributed%20species.htm'\n",
    ")\n",
    "soup = BeautifulSoup(html_page, \"html.parser\")\n",
    "# 2 : Store the data : \n",
    "plants_names = []\n",
    "for a in soup.find_all(\"i\"):\n",
    "    plants_names.append(a.get_text(strip=True))\n",
    "len(plants_names)\n",
    "## ================= Fixing the names :\n",
    "# 3 : Fix the data : \n",
    "splants_names = str(plants_names)\n",
    "plants_names = re.split('(?=[A-Z])', splants_names)\n",
    "len(plants_names)\n"
   ]
  },
  {
   "cell_type": "markdown",
   "metadata": {},
   "source": [
    "### 2. Scraping Images :\n",
    "-  Function : get_image_urls > scroll_down , This function takes the query while scroll_down sub function makes sure the scraper is scrolling down the page. \n",
    "-  Function : s_state , This function report the state of the search and downloading. \n",
    "-  Function : search_download , This fuction send the search key to get_img_urls - it will download 20 image per key -and get reports from s_state function."
   ]
  },
  {
   "cell_type": "code",
   "execution_count": null,
   "metadata": {},
   "outputs": [],
   "source": [
    "def get_image_urls(query: str,\n",
    "                     max_links_to_get: int,\n",
    "                     wd: webdriver,\n",
    "                     sleep_between_interactions: int = 1):\n",
    "    '''\n",
    "\n",
    "    '''\n",
    "    def scroll_down(wd):\n",
    "        wd.execute_script(\"window.scrollTo(0, document.body.scrollHeight);\")\n",
    "        time.sleep(sleep_between_interactions)\n",
    "\n",
    "    # add the query to google images url \n",
    "    search_url = \"https://www.google.com/search?safe=off&site=&tbm=isch&source=hp&q={q}&oq={q}&gs_l=img\"\n",
    "\n",
    "    # load the page\n",
    "    wd.get(search_url.format(q=query))\n",
    "\n",
    "    image_urls = set()\n",
    "    image_count = 0\n",
    "    results_start = 0\n",
    "    while image_count < max_links_to_get:\n",
    "        scroll_down(wd)\n",
    "\n",
    "        # get all image thumbnail results\n",
    "        thumbnail_results = wd.find_elements_by_css_selector(\"img.Q4LuWd\")\n",
    "        number_results = len(thumbnail_results)\n",
    "\n",
    "        print(\n",
    "            f\"Here you go I've found : {number_results}  results. I'll start extracting the links from {results_start}:{number_results}\"\n",
    "        )\n",
    "\n",
    "        for img in thumbnail_results[results_start:number_results]:\n",
    "            \n",
    "            try:\n",
    "                img.click()\n",
    "                time.sleep(sleep_between_interactions)\n",
    "            except Exception as e:\n",
    "                print(e)\n",
    "                continue\n",
    "\n",
    "            # extract image urls\n",
    "            actual_images = wd.find_elements_by_css_selector('img.n3VNCb')\n",
    "            for actual_image in actual_images:\n",
    "                if actual_image.get_attribute(\n",
    "                        'src') and 'http' in actual_image.get_attribute('src'):\n",
    "                    image_urls.add(actual_image.get_attribute('src'))\n",
    "\n",
    "            image_count = len(image_urls)\n",
    "\n",
    "            if len(image_urls) >= max_links_to_get:\n",
    "                print(f\"Found: {len(image_urls)} image links, done!\")\n",
    "                break\n",
    "        else:\n",
    "            print(\"Found:\", len(image_urls),\n",
    "                  \"image links, looking for more ...\")\n",
    "            time.sleep(30)\n",
    "            #return\n",
    "            load_more_button = wd.find_element_by_css_selector(\".mye4qd\")\n",
    "            if load_more_button:\n",
    "                wd.execute_script(\"document.querySelector('.mye4qd').click();\")\n",
    "\n",
    "        # move the result startpoint further down\n",
    "        results_start = len(thumbnail_results)\n",
    "\n",
    "    return image_urls"
   ]
  },
  {
   "cell_type": "code",
   "execution_count": null,
   "metadata": {},
   "outputs": [],
   "source": [
    "def s_state(folder_path: str, url: str):\n",
    "    try:\n",
    "        image_content = requests.get(url).content\n",
    "\n",
    "    except Exception as e:\n",
    "        print(f\"ERROR - Could not download {url} - {e}\")\n",
    "\n",
    "    try:\n",
    "        image_file = io.BytesIO(image_content)\n",
    "        image = Image.open(image_file).convert('RGB')\n",
    "        file_path = os.path.join(\n",
    "            folder_path,\n",
    "            hashlib.sha1(image_content).hexdigest()[:10] + '.jpg')\n",
    "        with open(file_path, 'wb') as f:\n",
    "            image.save(f, \"JPEG\", quality=85)\n",
    "        print(f\"SUCCESS - saved {url} - as {file_path}\")\n",
    "    except Exception as e:\n",
    "        print(f\"ERROR - Could not save {url} - {e}\")"
   ]
  },
  {
   "cell_type": "code",
   "execution_count": null,
   "metadata": {},
   "outputs": [],
   "source": [
    "def search_download(search_term: str,\n",
    "                        driver_path='chromedriver',\n",
    "                        target_path='./images',\n",
    "                        number_images=20):\n",
    "    target_folder = os.path.join(target_path,\n",
    "                                 '_'.join(search_term.lower().split(' ')))\n",
    "\n",
    "    if not os.path.exists(target_folder):\n",
    "        os.makedirs(target_folder)\n",
    "\n",
    "    with webdriver.Chrome(executable_path=driver_path) as wd:\n",
    "        res = get_image_urls(search_term,\n",
    "                               number_images,\n",
    "                               wd=wd,\n",
    "                               sleep_between_interactions=0.5)\n",
    "\n",
    "    for elem in res:\n",
    "        s_state(target_folder, elem)\n"
   ]
  },
  {
   "cell_type": "markdown",
   "metadata": {},
   "source": [
    "I've stopped the search at 225 , download images for 226 plant name which belong to 21 family. "
   ]
  },
  {
   "cell_type": "code",
   "execution_count": null,
   "metadata": {},
   "outputs": [],
   "source": [
    "# each time search for a plant name and download 20 images : \n",
    "for i in range(0, 225):\n",
    "    word = plants_names[i] + \" Plant\"\n",
    "    search_download(word, driver_path=\"chromedriver\")"
   ]
  },
  {
   "cell_type": "markdown",
   "metadata": {},
   "source": [
    "### 3. Preparing the Data : \n",
    "-  Reding  the images paths.\n",
    "-  Reading the labels in the correct count and order.\n",
    "- Saving the data.\n"
   ]
  },
  {
   "cell_type": "code",
   "execution_count": null,
   "metadata": {},
   "outputs": [],
   "source": [
    "# reading the paths : \n",
    "my_path = r\".\\capStoneProject\\images\"\n",
    "#print(my_path)\n",
    "files=glob.glob(my_path + '/**/*.jpg', recursive=True)\n",
    "#len(files) 4324\n"
   ]
  },
  {
   "cell_type": "code",
   "execution_count": null,
   "metadata": {},
   "outputs": [],
   "source": [
    "# reaing labels :\n",
    "labels = [\n",
    "    \"ACANTHACEAE\", \"AIZOACEAE\", \"ALLIACEAE\", \"ALOACEAE\", \"AMARANTHACEAE\",\n",
    "    \"AMARYLLIDACEAE\", \"ANACARDIACEAE\", \"APOCYNACEAE\", \"ARISTOLOCHIACEAE\",\n",
    "    \"ASCLEPIADACEAE\", \"ASPARAGACEAE\", \"ASPHODELACEAE\", \"BARBEYACEAE\",\n",
    "    \"BERBERIDACEAE\", \"BORAGINACEAE\", \"BURSERACEAF\", \"CACTACEAE\",\n",
    "    \"CAMPANULACEAE\", \"CAPPARACEAE\", \"CAPRIFOLIACEAE\", \"CARYOPHYLLACEAE\"\n",
    "]\n",
    "l=[]\n",
    "for i in labels:\n",
    "    my_path = r\"C:\\Users\\un_cs\\Documents\\capStoneProject\\images\"+r\"\\\\\"+i\n",
    "    fil=glob.glob(my_path + '/**/*.jpg', recursive=True)\n",
    "    for j in range(0,len(fil)):\n",
    "        l.append(i)\n",
    "len(l) # 4324"
   ]
  },
  {
   "cell_type": "code",
   "execution_count": null,
   "metadata": {},
   "outputs": [],
   "source": [
    "# saving the data in csv file :\n",
    "data=pd.DataFrame(\n",
    "    {'label': l,\n",
    "     'img': files,\n",
    "    })\n",
    "data.head()\n",
    "########### saving data \n",
    "data.to_csv(r\".\\capStoneProject\\data\\data.csv\", index =None)"
   ]
  },
  {
   "cell_type": "markdown",
   "metadata": {},
   "source": [
    "### 4. Visualizing :"
   ]
  },
  {
   "cell_type": "code",
   "execution_count": null,
   "metadata": {},
   "outputs": [],
   "source": [
    "# first 5 images :\n",
    "size = (100, 100)\n",
    "for image_path in data.iloc[:5,1]:\n",
    "    im = Image.open(image_path)\n",
    "    im = im.resize(size)\n",
    "    plt.imshow(im)\n",
    "    plt.show()\n"
   ]
  }
 ],
 "metadata": {
  "language_info": {
   "name": "python"
  },
  "orig_nbformat": 4
 },
 "nbformat": 4,
 "nbformat_minor": 2
}
