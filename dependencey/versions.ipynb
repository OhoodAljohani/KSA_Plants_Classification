{
 "cells": [
  {
   "cell_type": "markdown",
   "metadata": {},
   "source": [
    "Dependency Versions: In this project, I've used some python packages and it's important to note that some libraries is updated many times in one year. For TensorFlow and keras it is highly recommended to use the same versions."
   ]
  },
  {
   "cell_type": "code",
   "execution_count": 6,
   "metadata": {},
   "outputs": [],
   "source": [
    "# The packages : \n",
    "import flask \n",
    "import tensorflow as tf\n",
    "import numpy as np\n",
    "import pandas as pd \n",
    "import keras\n",
    "import requests \n",
    "import bs4\n",
    "import PIL\n",
    "import cv2\n"
   ]
  },
  {
   "cell_type": "code",
   "execution_count": 7,
   "metadata": {},
   "outputs": [
    {
     "name": "stdout",
     "output_type": "stream",
     "text": [
      "Flask version :\n",
      "2.0.2\n",
      "Requests version :\n",
      "2.26.0\n",
      "TensorFlow version :\n",
      "2.7.0\n",
      "Pandas version :\n",
      "1.3.4\n",
      "Keras version :\n",
      "2.7.0\n",
      "Beatful Soup  version :\n",
      "4.10.0\n",
      "Pillow version :\n",
      "8.4.0\n",
      "Open CV  version :\n",
      "4.5.4-dev\n"
     ]
    }
   ],
   "source": [
    "print(\"Flask version :\")\n",
    "print(flask.__version__) \n",
    "print(\"Requests version :\")\n",
    "print(requests.__version__) \n",
    "print(\"TensorFlow version :\")\n",
    "print(tf.__version__)\n",
    "print(\"Pandas version :\")\n",
    "print(pd.__version__) \n",
    "print(\"Keras version :\")\n",
    "print(keras.__version__) \n",
    "print(\"Beautiful  Soup  version :\")\n",
    "print(bs4.__version__) \n",
    "print(\"Pillow version :\")\n",
    "print(PIL.__version__) \n",
    "print(\"Open CV  version :\")\n",
    "print(cv2.__version__) "
   ]
  }
 ],
 "metadata": {
  "interpreter": {
   "hash": "6205cd1a6490c241dae4b358caa62b3d3751c828d9f336d231782d609865e174"
  },
  "kernelspec": {
   "display_name": "Python 3.7.8 64-bit ('.cp': venv)",
   "language": "python",
   "name": "python3"
  },
  "language_info": {
   "codemirror_mode": {
    "name": "ipython",
    "version": 3
   },
   "file_extension": ".py",
   "mimetype": "text/x-python",
   "name": "python",
   "nbconvert_exporter": "python",
   "pygments_lexer": "ipython3",
   "version": "3.7.8"
  },
  "orig_nbformat": 4
 },
 "nbformat": 4,
 "nbformat_minor": 2
}
