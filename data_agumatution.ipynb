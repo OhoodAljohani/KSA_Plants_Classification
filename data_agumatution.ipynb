{
 "cells": [
  {
   "cell_type": "markdown",
   "metadata": {},
   "source": [
    "### In this notebook the script for data agumatution which was done to enhance the model performance. The output of some cells will not be generated since that would ruin the dataset colloction. "
   ]
  },
  {
   "cell_type": "markdown",
   "metadata": {},
   "source": [
    "#### Importing :"
   ]
  },
  {
   "cell_type": "code",
   "execution_count": 1,
   "metadata": {},
   "outputs": [],
   "source": [
    "import pandas as pd\n",
    "from PIL import Image\n",
    "import numpy as np\n",
    "import matplotlib.pyplot as plt\n",
    "from keras.preprocessing.image import ImageDataGenerator\n",
    "from skimage import io\n",
    "import os"
   ]
  },
  {
   "cell_type": "code",
   "execution_count": 2,
   "metadata": {},
   "outputs": [],
   "source": [
    "datagen = ImageDataGenerator(        \n",
    "        rotation_range = 40,\n",
    "        shear_range = 0.2,\n",
    "        zoom_range = 0.2,\n",
    "        horizontal_flip = True,\n",
    "        brightness_range = (0.5, 1.5))"
   ]
  },
  {
   "cell_type": "code",
   "execution_count": null,
   "metadata": {},
   "outputs": [],
   "source": [
    "names =['CARYOPHYLLACEAE','BORAGINACEAE']\n",
    "for name in names :\n",
    "    image_directory = r'.\\\\data\\\\images\\\\'+ name +'\\\\'\n",
    "    SIZE = 224\n",
    "    dataset = []\n",
    "    my_images = os.listdir(image_directory)\n",
    "    for i, image_name in enumerate(my_images):    \n",
    "        if (image_name.split('.')[1] == 'jpg'):        \n",
    "            image = io.imread(image_directory + image_name)        \n",
    "            image = Image.fromarray(image, 'RGB')        \n",
    "            image = image.resize((SIZE,SIZE)) \n",
    "            dataset.append(np.array(image))\n",
    "    x = np.array(dataset)\n",
    "    i = 0\n",
    "    for batch in datagen.flow(x, batch_size=16,\n",
    "                            save_to_dir= r'C:\\Users\\un_cs\\Documents\\capStoneProject\\images\\BORAGINACEAE',\n",
    "                            save_prefix='dr',\n",
    "                            save_format='jpg'):    \n",
    "        i += 1    \n",
    "        if i > 50:        \n",
    "            break"
   ]
  }
 ],
 "metadata": {
  "interpreter": {
   "hash": "6205cd1a6490c241dae4b358caa62b3d3751c828d9f336d231782d609865e174"
  },
  "kernelspec": {
   "display_name": "Python 3.7.8 64-bit ('.cp': venv)",
   "language": "python",
   "name": "python3"
  },
  "language_info": {
   "codemirror_mode": {
    "name": "ipython",
    "version": 3
   },
   "file_extension": ".py",
   "mimetype": "text/x-python",
   "name": "python",
   "nbconvert_exporter": "python",
   "pygments_lexer": "ipython3",
   "version": "3.7.8"
  },
  "orig_nbformat": 4
 },
 "nbformat": 4,
 "nbformat_minor": 2
}
